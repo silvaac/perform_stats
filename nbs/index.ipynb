{
 "cells": [
  {
   "cell_type": "code",
   "execution_count": null,
   "metadata": {},
   "outputs": [],
   "source": [
    "#| hide\n",
    "from perform_stats.tables import *"
   ]
  },
  {
   "cell_type": "markdown",
   "metadata": {},
   "source": [
    "# perform_stats\n",
    "\n",
    "> Portfolio performance analytics"
   ]
  },
  {
   "cell_type": "markdown",
   "metadata": {},
   "source": [
    "This collects a set of functions to perform portfolio performance analytics. I leverage quantstats package in order to build performance tables but organize the output in a simplified format with less statistics and graphs."
   ]
  },
  {
   "cell_type": "markdown",
   "metadata": {},
   "source": [
    "## Developer Guide"
   ]
  },
  {
   "cell_type": "markdown",
   "metadata": {},
   "source": [
    "If you are new to using `nbdev` here are some useful pointers to get you started."
   ]
  },
  {
   "cell_type": "markdown",
   "metadata": {},
   "source": [
    "### Install perform_stats in Development mode"
   ]
  },
  {
   "cell_type": "markdown",
   "metadata": {},
   "source": [
    "```sh\n",
    "# make sure perform_stats package is installed in development mode\n",
    "$ pip install -e .\n",
    "\n",
    "# make changes under nbs/ directory\n",
    "# ...\n",
    "\n",
    "# compile to have changes apply to perform_stats\n",
    "$ nbdev_prepare\n",
    "```"
   ]
  },
  {
   "cell_type": "markdown",
   "metadata": {},
   "source": [
    "## Usage"
   ]
  },
  {
   "cell_type": "markdown",
   "metadata": {},
   "source": [
    "### Installation"
   ]
  },
  {
   "cell_type": "markdown",
   "metadata": {},
   "source": [
    "Install latest from the GitHub [repository][repo]:\n",
    "\n",
    "```sh\n",
    "$ pip install git+https://github.com/silvaac/perform_stats.git\n",
    "```\n",
    "\n",
    "[repo]: https://github.com/silvaac/perform_stats\n",
    "[docs]: https://silvaac.github.io/perform_stats/"
   ]
  },
  {
   "cell_type": "markdown",
   "metadata": {},
   "source": [
    "### Documentation"
   ]
  },
  {
   "cell_type": "markdown",
   "metadata": {},
   "source": [
    "Documentation can be found hosted on this GitHub [repository][repo]'s [pages][docs]. Additionally you can find package manager specific guidelines on [conda][conda] and [pypi][pypi] respectively.\n",
    "\n",
    "[repo]: https://github.com/silvaac/perform_stats\n",
    "[docs]: https://silvaac.github.io/perform_stats/"
   ]
  },
  {
   "cell_type": "markdown",
   "metadata": {},
   "source": [
    "## How to use\n",
    "\n",
    "First load the data. The library expects returns and not prices therefore it is up to the user to build returns before calling the functions.\n",
    "\n",
    "Here is an example of how to use the functions with daily returns from two files: 'strategy.parquet' and 'benchmark.parquet'."
   ]
  },
  {
   "cell_type": "code",
   "execution_count": null,
   "metadata": {},
   "outputs": [
    {
     "name": "stdout",
     "output_type": "stream",
     "text": [
      "             pnl_sim       ETH\n",
      "Date                          \n",
      "2016-05-18  0.000000  0.013846\n",
      "2016-05-19  0.000000  0.130501\n",
      "2016-05-20  0.000000 -0.048993\n",
      "2016-05-21  0.000000  0.000000\n",
      "2016-05-22  0.000000  0.000000\n",
      "...              ...       ...\n",
      "2025-02-02  0.055932 -0.079419\n",
      "2025-02-03 -0.055593  0.005008\n",
      "2025-02-04  0.014117 -0.052555\n",
      "2025-02-05  0.000663  0.020581\n",
      "2025-02-06  0.016759  0.004418\n",
      "\n",
      "[3187 rows x 2 columns]\n"
     ]
    }
   ],
   "source": [
    "#| eval:false\n",
    "import pandas as pd\n",
    "from perform_stats.tables import *\n",
    "# Read in strategy\n",
    "strategy = pd.read_parquet('strategy.parquet')\n",
    "# Read in benchmark\n",
    "bench = pd.read_parquet('benchmark.parquet')\n",
    "# Join them\n",
    "df = pd.merge(strategy, bench, on='Date', how='inner')\n",
    "df = df.tz_localize(None) # avoid issues w/qs library\n",
    "print(df)"
   ]
  },
  {
   "cell_type": "markdown",
   "metadata": {},
   "source": [
    "Call perf_stats and select the function you want to use. For example:"
   ]
  },
  {
   "cell_type": "code",
   "execution_count": null,
   "metadata": {},
   "outputs": [
    {
     "name": "stdout",
     "output_type": "stream",
     "text": [
      "                 Benchmark    Strategy\n",
      "Start Period    2016-05-18  2016-05-18\n",
      "End Period      2025-02-06  2025-02-06\n",
      "Avg (Day ann.)        1.08        1.45\n",
      "Vol (Day ann.)        0.97        0.63\n",
      "Sharpe                1.11        2.29\n",
      "MTD                  -0.15        0.02\n",
      "YTD                  -0.16       -0.18\n",
      "3M                    0.16       -0.02\n",
      "6M                    0.16        0.05\n",
      "1Y                    0.22        0.47\n",
      "3Y (ann.)             0.01        0.49\n",
      "5Y (ann.)             0.42        0.67\n",
      "                   Benchmark Strategy\n",
      "Max Drawdown           -0.94    -0.46\n",
      "Longest DD Days         1186      220\n",
      "Avg. Drawdown          -0.17    -0.06\n",
      "Avg. Drawdown Days        83       15\n"
     ]
    }
   ],
   "source": [
    "#| eval:false\n",
    "performance = perf_stats(df['pnl_sim'],benchmark=df['ETH'])\n",
    "ret,risk = performance.return_performance()\n",
    "print(ret)\n",
    "print(risk)"
   ]
  }
 ],
 "metadata": {
  "kernelspec": {
   "display_name": "python3",
   "language": "python",
   "name": "python3"
  }
 },
 "nbformat": 4,
 "nbformat_minor": 4
}
